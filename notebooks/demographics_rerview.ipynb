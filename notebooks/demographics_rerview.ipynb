{
 "cells": [
  {
   "cell_type": "code",
   "execution_count": 1,
   "id": "5601145a",
   "metadata": {},
   "outputs": [
    {
     "name": "stdout",
     "output_type": "stream",
     "text": [
      "Number of rows with a tie for the maximum worldview score: 16\n"
     ]
    }
   ],
   "source": [
    "# Load prepped_raw_data.xlsx into a dataframe. First row is header, second row should be skipped.\n",
    "import numpy as np\n",
    "import pandas as pd\n",
    "\n",
    "from worldview import preprocessor\n",
    "\n",
    "# Show full dataframes when printing\n",
    "pd.set_option(\"display.max_rows\", None)\n",
    "pd.set_option(\"display.max_columns\", None)\n",
    "pd.set_option(\"display.float_format\", lambda x: \"%.5f\" % x)\n",
    "np.set_printoptions(threshold=100, suppress=True)\n",
    "\n",
    "# Load and prepare the data\n",
    "df = preprocessor.create_prepped_data()"
   ]
  },
  {
   "cell_type": "markdown",
   "id": "e529d5c0",
   "metadata": {},
   "source": [
    "Look at the demographics and categorical vars and do any cleaning as needed. \n",
    "\n",
    "NOTE: For questions where \"prefer not to answer\" was an option, I mapped those to null/NaN, as that is easier for the statistical analysis. "
   ]
  },
  {
   "cell_type": "code",
   "execution_count": 2,
   "id": "0661c027",
   "metadata": {},
   "outputs": [
    {
     "name": "stdout",
     "output_type": "stream",
     "text": [
      "age_group\n",
      "25-34    134\n",
      "35-44    117\n",
      "45-54     71\n",
      "55-64     54\n",
      "NaN       23\n",
      "65-74      7\n",
      "Name: count, dtype: int64\n"
     ]
    }
   ],
   "source": [
    "# Age\n",
    "print(df[\"age_group\"].value_counts(dropna=False))"
   ]
  },
  {
   "cell_type": "markdown",
   "id": "e0a86050",
   "metadata": {},
   "source": [
    "We didn't have a group for 18-24. You will need report that in any papers, and drop the missing folks from any analysis on age. I wouldn't recommend inferring that the missings are from that group, since we don't know if they skipped the question for other reasons. \n",
    "\n",
    "You have very few in the 65-74 group, but I don't think that will be an issue if we are treating age as ordinal. Can see as we get into the analysis. "
   ]
  },
  {
   "cell_type": "code",
   "execution_count": 3,
   "id": "d6a08951",
   "metadata": {},
   "outputs": [
    {
     "name": "stdout",
     "output_type": "stream",
     "text": [
      "gender\n",
      "male         208\n",
      "female       189\n",
      "nonbinary      8\n",
      "NaN            1\n",
      "Name: count, dtype: int64\n"
     ]
    }
   ],
   "source": [
    "# Gender\n",
    "print(df[\"gender\"].value_counts(dropna=False))"
   ]
  },
  {
   "cell_type": "markdown",
   "id": "5682edfa",
   "metadata": {},
   "source": [
    "We only have 8 non-binary. We can either drop them from analysis and use t-tests when looking at gender differences (most simple approach), or we can do one-way or Welch's ANOVA, depending on if we meet the assumptions for those tests. \n",
    "\n",
    "FOLLOWUP: Let me know if you have a preference. ANOVAs do take a bit more time and more write-up in papers. It's unlikely you will get significant results with only 8, but we can spend the time if you like. "
   ]
  },
  {
   "cell_type": "code",
   "execution_count": 4,
   "id": "0f687238",
   "metadata": {},
   "outputs": [
    {
     "name": "stdout",
     "output_type": "stream",
     "text": [
      "transsexual\n",
      "NaN    247\n",
      "no     157\n",
      "yes      2\n",
      "Name: count, dtype: int64\n"
     ]
    }
   ],
   "source": [
    "# transsexual\n",
    "print(df[\"transsexual\"].value_counts(dropna=False))"
   ]
  },
  {
   "cell_type": "markdown",
   "id": "6203b888",
   "metadata": {},
   "source": [
    "Only 2 people responded yes (NaN means null/no answer). Not enough to do stats on. "
   ]
  },
  {
   "cell_type": "code",
   "execution_count": 5,
   "id": "38408688",
   "metadata": {},
   "outputs": [
    {
     "name": "stdout",
     "output_type": "stream",
     "text": [
      "ethnicity\n",
      "White                                        266\n",
      "Black or African American                     86\n",
      "Asian or Asian American                       27\n",
      "Hispanic or Latino                            21\n",
      "Middle Eastern or North African                3\n",
      "NaN                                            2\n",
      "Native Hawaiian or other Pacific Islander      1\n",
      "Name: count, dtype: int64\n"
     ]
    }
   ],
   "source": [
    "# ethnicity\n",
    "print(df[\"ethnicity\"].value_counts(dropna=False))"
   ]
  },
  {
   "cell_type": "code",
   "execution_count": 6,
   "id": "3f2db7b4",
   "metadata": {},
   "outputs": [
    {
     "name": "stdout",
     "output_type": "stream",
     "text": [
      "ethnicity_specify\n",
      "NaN                          396\n",
      "biracial/black/white           1\n",
      "White-passing latinx           1\n",
      "white/hispanic                 1\n",
      "Black and Middle Eastern       1\n",
      "Black/White                    1\n",
      "Black White                    1\n",
      "White, Puerto Rican            1\n",
      "Australian                     1\n",
      "black and white                1\n",
      "Black caribbean and white      1\n",
      "Name: count, dtype: int64\n"
     ]
    }
   ],
   "source": [
    "# ethnicity - specify\n",
    "print(df[\"ethnicity_specify\"].value_counts(dropna=False))"
   ]
  },
  {
   "cell_type": "markdown",
   "id": "ffd6885e",
   "metadata": {},
   "source": [
    "It looks like we could have benefited from offering a mixed race option, but the group would have been small. It also wouldn't get at different values for mixed race (black/white vs black/middle eastern). \n",
    "\n",
    "FOLLOWUP: Let me know if you want me to manually make a mixed race category and do statistics for it. We would override whatever value they put in the main ethnicity question with \"mixed\". "
   ]
  },
  {
   "cell_type": "code",
   "execution_count": 7,
   "id": "7ac82c78",
   "metadata": {},
   "outputs": [
    {
     "name": "stdout",
     "output_type": "stream",
     "text": [
      "education\n",
      "Graduated with Bachelors                                            168\n",
      "1-2 years college/associate’s degree/trade school/certifications     86\n",
      "Graduated with master’s degree                                       79\n",
      "Highschool gradate or proficiency                                    47\n",
      "Graduated with PhD                                                   23\n",
      "NaN                                                                   3\n",
      "Name: count, dtype: int64\n"
     ]
    }
   ],
   "source": [
    "# education\n",
    "print(df[\"education\"].value_counts(dropna=False))"
   ]
  },
  {
   "cell_type": "code",
   "execution_count": 8,
   "id": "03f9bceb",
   "metadata": {},
   "outputs": [
    {
     "name": "stdout",
     "output_type": "stream",
     "text": [
      "education_other\n",
      "NaN                                                        402\n",
      "Masters, two.    and the student loans for both :((((((      1\n",
      "not a high school graduate                                   1\n",
      "Graduated JD                                                 1\n",
      "MD                                                           1\n",
      "Name: count, dtype: int64\n"
     ]
    }
   ],
   "source": [
    "# education - other\n",
    "print(df[\"education_other\"].value_counts(dropna=False))"
   ]
  },
  {
   "cell_type": "markdown",
   "id": "cd8e84ef",
   "metadata": {},
   "source": [
    "I cleaned up the main education question to make sure that those with the JD/MD were in the \"Graduated with PhD\" group, but in the future I recommend the option be \"Graduate with Doctorate degree\" to reflect that not all doctorates are PhDs. \n",
    "\n",
    "FOLLOWUP: For our analysis, I recommend combining the \"Attended trade school/certifications\" and \"1-2 years college/associate’s degree\", due to the first one being so small. I don't know what the current research standards on this, but another option would be to combine \"Some graduate school\" with \"Graduated with Bachelors\" - reason being that \"Some graduate school\" indicates you started, but didn't get a degree. If we framed it as highest level of education completed, that would clean up the groups for analysis a bit. Let me know what you would like to do. "
   ]
  },
  {
   "cell_type": "code",
   "execution_count": 9,
   "id": "152302d5",
   "metadata": {},
   "outputs": [
    {
     "name": "stdout",
     "output_type": "stream",
     "text": [
      "religious_spiritual_orientation\n",
      "Christian               182\n",
      "Agnostic                 82\n",
      "Atheist                  59\n",
      "Spiritually eclectic     43\n",
      "NaN                      25\n",
      "Judaism                   8\n",
      "Buddhist                  5\n",
      "Muslim                    2\n",
      "Name: count, dtype: int64\n"
     ]
    }
   ],
   "source": [
    "# religious/spiritual orientation\n",
    "print(df[\"religious_spiritual_orientation\"].value_counts(dropna=False))"
   ]
  },
  {
   "cell_type": "code",
   "execution_count": 10,
   "id": "3fd1c55f",
   "metadata": {},
   "outputs": [
    {
     "name": "stdout",
     "output_type": "stream",
     "text": [
      "religious_spiritual_orientation_other\n",
      "NaN                                                                                                                                         381\n",
      "Muslim                                                                                                                                        2\n",
      "none                                                                                                                                          2\n",
      "Wiccan                                                                                                                                        2\n",
      "Roman Catholic                                                                                                                                1\n",
      "spiritual                                                                                                                                     1\n",
      "Metaphysical                                                                                                                                  1\n",
      "Nothing in particular                                                                                                                         1\n",
      "not religious                                                                                                                                 1\n",
      "No belief system                                                                                                                              1\n",
      "Agnostic                                                                                                                                      1\n",
      "Satanist                                                                                                                                      1\n",
      "No religious or spiritual affiliation or orientation                                                                                          1\n",
      "Spiritual                                                                                                                                     1\n",
      "Pagan                                                                                                                                         1\n",
      "Follower of path of Buddha, appreciate other spiritual traditions including Advaita Vedanta, Kashmiri Shaivism, Christian Gnostics, etc       1\n",
      "Non-duality                                                                                                                                   1\n",
      "Spiritual but not religious                                                                                                                   1\n",
      "Kind of nothing                                                                                                                               1\n",
      "christian                                                                                                                                     1\n",
      "Catholic                                                                                                                                      1\n",
      "catholic                                                                                                                                      1\n",
      "animist pagan                                                                                                                                 1\n",
      "Name: count, dtype: int64\n"
     ]
    }
   ],
   "source": [
    "# religious/spiritual orientation - other\n",
    "print(df[\"religious_spiritual_orientation_other\"].value_counts(dropna=False))"
   ]
  },
  {
   "cell_type": "markdown",
   "id": "30891f1d",
   "metadata": {},
   "source": [
    "FOLLOWUPs: I already fixed the main question so that the 2 people that indicated \"Muslim\" have that value. Based on the small group sizes, I recommend combining Judaism/Buddhist/Muslim into an \"other\" group.  \n",
    "\n",
    "We have a lot of people (23) that didn't answer the main question but did answer the \"other\" question. It would take me about 30 mins to manually try to map those. Let me know if you want me to do that, and if so, what should map to what. "
   ]
  },
  {
   "cell_type": "code",
   "execution_count": 11,
   "id": "c9ad930d",
   "metadata": {},
   "outputs": [
    {
     "name": "stdout",
     "output_type": "stream",
     "text": [
      "consider_open_inclusive\n",
      "yes    390\n",
      "no      16\n",
      "Name: count, dtype: int64\n"
     ]
    }
   ],
   "source": [
    "# Consider themselves to be open/inclusive\n",
    "print(df[\"consider_open_inclusive\"].value_counts(dropna=False))"
   ]
  },
  {
   "cell_type": "markdown",
   "id": "82e1a95b",
   "metadata": {},
   "source": [
    "FOLLOWUP: You won't be able to do much with this given how few people answered no. I'd recommend skipping the time doing analysis on this question, but let me know if you want me to move forward. "
   ]
  },
  {
   "cell_type": "code",
   "execution_count": 12,
   "id": "4aff2eb0",
   "metadata": {},
   "outputs": [
    {
     "name": "stdout",
     "output_type": "stream",
     "text": [
      "experience_open_inclusive\n",
      "yes    343\n",
      "no      63\n",
      "Name: count, dtype: int64\n"
     ]
    }
   ],
   "source": [
    "# Had experiences to make them open/inclusive\n",
    "print(df[\"experience_open_inclusive\"].value_counts(dropna=False))"
   ]
  },
  {
   "cell_type": "markdown",
   "id": "a00a6e5a",
   "metadata": {},
   "source": [
    "FOLLOWUP: You do have more that said no to this question. I'll assume you do want me to do analysis on this one, but let me know if not. "
   ]
  },
  {
   "cell_type": "code",
   "execution_count": 13,
   "id": "175109dd",
   "metadata": {},
   "outputs": [
    {
     "name": "stdout",
     "output_type": "stream",
     "text": [
      "feel_experience_changed\n",
      "yes    350\n",
      "no      52\n",
      "NaN      4\n",
      "Name: count, dtype: int64\n"
     ]
    }
   ],
   "source": [
    "# Feels their experiences have changed views of themselves/others\n",
    "print(df[\"feel_experience_changed\"].value_counts(dropna=False))"
   ]
  },
  {
   "cell_type": "markdown",
   "id": "647d4584",
   "metadata": {},
   "source": [
    "Followup: Same with this. I'll move forward with analysis. "
   ]
  },
  {
   "cell_type": "markdown",
   "id": "3411dcf3",
   "metadata": {},
   "source": [
    "# Dominant Worldview\n",
    "Adding in the counts for dominant worldview. Note that we did have some participants where their top scores tied. The paper had no instructions on what to do. The most simple thing would be to drop those participants (and report that in papers). Otherwise we have to do the more complex factor analysis which will be time consuming/require more complex writeup. "
   ]
  },
  {
   "cell_type": "code",
   "execution_count": 14,
   "id": "e2ad46ff",
   "metadata": {},
   "outputs": [
    {
     "name": "stdout",
     "output_type": "stream",
     "text": [
      "dominant_worldview\n",
      "traditional      244\n",
      "modern            81\n",
      "postmodern        36\n",
      "integrative       29\n",
      "multiple_ties     16\n",
      "Name: count, dtype: int64\n"
     ]
    }
   ],
   "source": [
    "# Had experiences to make them open/inclusive\n",
    "print(df[\"dominant_worldview\"].value_counts(dropna=False))"
   ]
  },
  {
   "cell_type": "code",
   "execution_count": null,
   "id": "cb372187",
   "metadata": {},
   "outputs": [],
   "source": []
  }
 ],
 "metadata": {
  "kernelspec": {
   "display_name": "Python (worldview-venv)",
   "language": "python",
   "name": "worldview-venv"
  },
  "language_info": {
   "codemirror_mode": {
    "name": "ipython",
    "version": 3
   },
   "file_extension": ".py",
   "mimetype": "text/x-python",
   "name": "python",
   "nbconvert_exporter": "python",
   "pygments_lexer": "ipython3",
   "version": "3.11.9"
  }
 },
 "nbformat": 4,
 "nbformat_minor": 5
}
