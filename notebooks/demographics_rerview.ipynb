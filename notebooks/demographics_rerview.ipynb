{
 "cells": [
  {
   "cell_type": "code",
   "execution_count": 1,
   "id": "5601145a",
   "metadata": {},
   "outputs": [
    {
     "name": "stdout",
     "output_type": "stream",
     "text": [
      "Number of rows with a tie for the maximum isi score: 8\n",
      "Number of rows with a tie for the maximum worldview score: 34\n"
     ]
    }
   ],
   "source": [
    "# Load prepped_raw_data.xlsx into a dataframe. First row is header, second row should be skipped.\n",
    "import numpy as np\n",
    "import pandas as pd\n",
    "\n",
    "import worldview\n",
    "from worldview import preprocessor\n",
    "\n",
    "# Show full dataframes when printing\n",
    "pd.set_option(\"display.max_rows\", None)\n",
    "pd.set_option(\"display.max_columns\", None)\n",
    "pd.set_option(\"display.float_format\", lambda x: \"%.5f\" % x)\n",
    "np.set_printoptions(threshold=100, suppress=True)\n",
    "\n",
    "data_loc = worldview.get_data_dir()\n",
    "df_raw = pd.read_excel(data_loc / \"prepped_raw_data.xlsx\", header=0, skiprows=[1])\n",
    "\n",
    "# Load and prepare the data\n",
    "df = preprocessor.create_prepped_data()"
   ]
  },
  {
   "cell_type": "markdown",
   "id": "e529d5c0",
   "metadata": {},
   "source": [
    "Look at the demographics and categorical vars and do any cleaning as needed. \n",
    "\n",
    "NOTE: For questions where \"prefer not to answer\" was an option, I mapped those to null/NaN, as that is easier for the statistical analysis. "
   ]
  },
  {
   "cell_type": "code",
   "execution_count": 2,
   "id": "0661c027",
   "metadata": {},
   "outputs": [
    {
     "data": {
      "text/plain": [
       "age_group\n",
       "25-34    134\n",
       "35-44    117\n",
       "45-54     71\n",
       "55-64     54\n",
       "65-74     23\n",
       "75+        7\n",
       "Name: count, dtype: int64"
      ]
     },
     "metadata": {},
     "output_type": "display_data"
    }
   ],
   "source": [
    "# Age\n",
    "display(df[\"age_group\"].value_counts(dropna=False))"
   ]
  },
  {
   "cell_type": "markdown",
   "id": "b3df1258",
   "metadata": {},
   "source": [
    "# Age group where we combine the last two to create 65+ or 55+"
   ]
  },
  {
   "cell_type": "code",
   "execution_count": 3,
   "id": "da72b6f6",
   "metadata": {},
   "outputs": [
    {
     "data": {
      "text/plain": [
       "age_group_65\n",
       "25-34     134\n",
       "35-44     117\n",
       "45-54      71\n",
       "55-64+     54\n",
       "65+        30\n",
       "Name: count, dtype: int64"
      ]
     },
     "metadata": {},
     "output_type": "display_data"
    },
    {
     "data": {
      "text/plain": [
       "age_group_55\n",
       "25-34    134\n",
       "35-44    117\n",
       "55+       84\n",
       "45-54     71\n",
       "Name: count, dtype: int64"
      ]
     },
     "metadata": {},
     "output_type": "display_data"
    }
   ],
   "source": [
    "display(df[\"age_group_65\"].value_counts(dropna=False))\n",
    "display(df[\"age_group_55\"].value_counts(dropna=False))"
   ]
  },
  {
   "cell_type": "markdown",
   "id": "e0a86050",
   "metadata": {},
   "source": [
    "I fixed a bug in the age groups and now we don't have any missing data. We might want to combine the last 2 groups to form a 65+ group, but we can decide that as we do analysis. "
   ]
  },
  {
   "cell_type": "code",
   "execution_count": 4,
   "id": "d6a08951",
   "metadata": {},
   "outputs": [
    {
     "data": {
      "text/plain": [
       "gender\n",
       "male         208\n",
       "female       189\n",
       "nonbinary      8\n",
       "NaN            1\n",
       "Name: count, dtype: int64"
      ]
     },
     "metadata": {},
     "output_type": "display_data"
    }
   ],
   "source": [
    "# Gender\n",
    "display(df[\"gender\"].value_counts(dropna=False))"
   ]
  },
  {
   "cell_type": "markdown",
   "id": "5682edfa",
   "metadata": {},
   "source": [
    "We only have 8 non-binary (and 1 prefer not to answer). We decided to drop them from analysis, but if you can use these numbers to report how many missings (the prefer not to answer), and how many nonbinary you dropped due to not enough data. "
   ]
  },
  {
   "cell_type": "code",
   "execution_count": 5,
   "id": "ecae0a6c",
   "metadata": {},
   "outputs": [
    {
     "data": {
      "text/plain": [
       "gender_2\n",
       "male      208\n",
       "female    189\n",
       "NaN         9\n",
       "Name: count, dtype: int64"
      ]
     },
     "metadata": {},
     "output_type": "display_data"
    }
   ],
   "source": [
    "# Gender 2 levels\n",
    "display(df[\"gender_2\"].value_counts(dropna=False))"
   ]
  },
  {
   "cell_type": "code",
   "execution_count": 6,
   "id": "0f687238",
   "metadata": {},
   "outputs": [
    {
     "data": {
      "text/plain": [
       "transsexual\n",
       "NaN    247\n",
       "no     157\n",
       "yes      2\n",
       "Name: count, dtype: int64"
      ]
     },
     "metadata": {},
     "output_type": "display_data"
    }
   ],
   "source": [
    "# transsexual\n",
    "display(df[\"transsexual\"].value_counts(dropna=False))"
   ]
  },
  {
   "cell_type": "markdown",
   "id": "6203b888",
   "metadata": {},
   "source": [
    "Only 2 people responded yes (NaN means null/no answer). Not enough to do stats on. "
   ]
  },
  {
   "cell_type": "code",
   "execution_count": 7,
   "id": "38408688",
   "metadata": {},
   "outputs": [
    {
     "data": {
      "text/plain": [
       "ethnicity\n",
       "White                                        266\n",
       "Black or African American                     86\n",
       "Asian or Asian American                       27\n",
       "Hispanic or Latino                            21\n",
       "Middle Eastern or North African                3\n",
       "NaN                                            2\n",
       "Native Hawaiian or other Pacific Islander      1\n",
       "Name: count, dtype: int64"
      ]
     },
     "metadata": {},
     "output_type": "display_data"
    }
   ],
   "source": [
    "# ethnicity\n",
    "display(df[\"ethnicity\"].value_counts(dropna=False))"
   ]
  },
  {
   "cell_type": "code",
   "execution_count": 8,
   "id": "3f2db7b4",
   "metadata": {},
   "outputs": [
    {
     "data": {
      "text/plain": [
       "ethnicity_specify\n",
       "NaN                          396\n",
       "biracial/black/white           1\n",
       "White-passing latinx           1\n",
       "white/hispanic                 1\n",
       "Black and Middle Eastern       1\n",
       "Black/White                    1\n",
       "Black White                    1\n",
       "White, Puerto Rican            1\n",
       "Australian                     1\n",
       "black and white                1\n",
       "Black caribbean and white      1\n",
       "Name: count, dtype: int64"
      ]
     },
     "metadata": {},
     "output_type": "display_data"
    }
   ],
   "source": [
    "# ethnicity - specify\n",
    "display(df[\"ethnicity_specify\"].value_counts(dropna=False))"
   ]
  },
  {
   "cell_type": "markdown",
   "id": "ffd6885e",
   "metadata": {},
   "source": [
    "It looks like we could have benefited from offering a mixed race option, but the group would have been small. It also wouldn't get at different values for mixed race (black/white vs black/middle eastern). \n",
    "\n",
    "People were given the option to fill this out regardless of what they answered for the main ethnicity question. Just noting that because how \"other\" was treated differed across the demographic questions - this required some manual effort to figure out and clean the data for. "
   ]
  },
  {
   "cell_type": "code",
   "execution_count": 9,
   "id": "7ac82c78",
   "metadata": {},
   "outputs": [
    {
     "data": {
      "text/plain": [
       "education\n",
       "Graduated with Bachelors                152\n",
       "1-2 years college/associate’s degree     79\n",
       "Graduated with master’s degree           79\n",
       "Highschool gradate or proficiency        47\n",
       "Graduated with PhD                       23\n",
       "Some graduate school                     16\n",
       "Attended trade school/certifications      7\n",
       "NaN                                       3\n",
       "Name: count, dtype: int64"
      ]
     },
     "metadata": {},
     "output_type": "display_data"
    }
   ],
   "source": [
    "# education\n",
    "display(df[\"education\"].value_counts(dropna=False))"
   ]
  },
  {
   "cell_type": "code",
   "execution_count": 10,
   "id": "03f9bceb",
   "metadata": {},
   "outputs": [
    {
     "data": {
      "text/plain": [
       "education_other\n",
       "NaN                                                        402\n",
       "Masters, two.    and the student loans for both :((((((      1\n",
       "not a high school graduate                                   1\n",
       "Graduated JD                                                 1\n",
       "MD                                                           1\n",
       "Name: count, dtype: int64"
      ]
     },
     "metadata": {},
     "output_type": "display_data"
    }
   ],
   "source": [
    "# education - other\n",
    "display(df[\"education_other\"].value_counts(dropna=False))"
   ]
  },
  {
   "cell_type": "markdown",
   "id": "cd8e84ef",
   "metadata": {},
   "source": [
    "I cleaned up the main education question to make sure that those with the JD/MD were in the \"Graduated with PhD\" group, but in the future I recommend the option be \"Graduate with Doctorate degree\" to reflect that not all doctorates are PhDs. \n",
    "\n",
    "Below is the education variable after I combined some levels per our discussion. "
   ]
  },
  {
   "cell_type": "code",
   "execution_count": 11,
   "id": "5117a81a",
   "metadata": {},
   "outputs": [
    {
     "data": {
      "text/plain": [
       "education_5_levels\n",
       "Graduated with Bachelors                                            168\n",
       "1-2 years college/associate’s degree/trade school/certifications     86\n",
       "Graduated with master’s degree                                       79\n",
       "Highschool gradate or proficiency                                    47\n",
       "Graduated with PhD                                                   23\n",
       "NaN                                                                   3\n",
       "Name: count, dtype: int64"
      ]
     },
     "metadata": {},
     "output_type": "display_data"
    }
   ],
   "source": [
    "display(df[\"education_5_levels\"].value_counts(dropna=False))"
   ]
  },
  {
   "cell_type": "markdown",
   "id": "42952cf8",
   "metadata": {},
   "source": [
    "religious/spiritual orientation - Includes the cleanup I did where we mapped those who put \"catholic\" in \n",
    "the other question to \"Christian\", mapped those that said some variation of none/not religious to \"Atheist\"\n",
    "and created the \"Muslim\" group. "
   ]
  },
  {
   "cell_type": "code",
   "execution_count": 12,
   "id": "152302d5",
   "metadata": {},
   "outputs": [
    {
     "data": {
      "text/plain": [
       "religious_spiritual_orientation\n",
       "Christian               182\n",
       "Agnostic                 82\n",
       "Atheist                  59\n",
       "Spiritually eclectic     43\n",
       "NaN                      25\n",
       "Judaism                   8\n",
       "Buddhist                  5\n",
       "Muslim                    2\n",
       "Name: count, dtype: int64"
      ]
     },
     "metadata": {},
     "output_type": "display_data"
    }
   ],
   "source": [
    "display(df[\"religious_spiritual_orientation\"].value_counts(dropna=False))"
   ]
  },
  {
   "cell_type": "markdown",
   "id": "a4a60bef",
   "metadata": {},
   "source": [
    "Religion - combining the small groups"
   ]
  },
  {
   "cell_type": "code",
   "execution_count": 13,
   "id": "19b3b7e3",
   "metadata": {},
   "outputs": [
    {
     "data": {
      "text/plain": [
       "religious_spiritual_orientation_reduced\n",
       "Christian               182\n",
       "Agnostic                 82\n",
       "Atheist                  59\n",
       "Spiritually eclectic     43\n",
       "NaN                      25\n",
       "Other                    15\n",
       "Name: count, dtype: int64"
      ]
     },
     "metadata": {},
     "output_type": "display_data"
    }
   ],
   "source": [
    "display(df[\"religious_spiritual_orientation_reduced\"].value_counts(dropna=False))"
   ]
  },
  {
   "cell_type": "code",
   "execution_count": 14,
   "id": "c9ad930d",
   "metadata": {},
   "outputs": [
    {
     "name": "stdout",
     "output_type": "stream",
     "text": [
      "consider_open_inclusive\n",
      "yes    390\n",
      "no      16\n",
      "Name: count, dtype: int64\n"
     ]
    }
   ],
   "source": [
    "# Consider themselves to be open/inclusive\n",
    "print(df[\"consider_open_inclusive\"].value_counts(dropna=False))"
   ]
  },
  {
   "cell_type": "markdown",
   "id": "82e1a95b",
   "metadata": {},
   "source": [
    "Not enough people answered no for any real analysis."
   ]
  },
  {
   "cell_type": "code",
   "execution_count": 15,
   "id": "4aff2eb0",
   "metadata": {},
   "outputs": [
    {
     "name": "stdout",
     "output_type": "stream",
     "text": [
      "experience_open_inclusive\n",
      "yes    343\n",
      "no      63\n",
      "Name: count, dtype: int64\n"
     ]
    }
   ],
   "source": [
    "# Had experiences to make them open/inclusive\n",
    "print(df[\"experience_open_inclusive\"].value_counts(dropna=False))"
   ]
  },
  {
   "cell_type": "markdown",
   "id": "a00a6e5a",
   "metadata": {},
   "source": [
    "Analysis on this TBD"
   ]
  },
  {
   "cell_type": "code",
   "execution_count": 16,
   "id": "175109dd",
   "metadata": {},
   "outputs": [
    {
     "name": "stdout",
     "output_type": "stream",
     "text": [
      "feel_experience_changed\n",
      "yes    350\n",
      "no      52\n",
      "NaN      4\n",
      "Name: count, dtype: int64\n"
     ]
    }
   ],
   "source": [
    "# Feels their experiences have changed views of themselves/others\n",
    "print(df[\"feel_experience_changed\"].value_counts(dropna=False))"
   ]
  },
  {
   "cell_type": "markdown",
   "id": "647d4584",
   "metadata": {},
   "source": [
    "Analysis on this TBD"
   ]
  },
  {
   "cell_type": "markdown",
   "id": "3411dcf3",
   "metadata": {},
   "source": [
    "# Dominant Worldview\n",
    "Adding in the counts for dominant worldview. Note that we did have some participants where their top scores tied. The paper had no instructions on what to do. The most simple thing would be to drop those participants (and report that in papers). Otherwise we have to do the more complex factor analysis which will be time consuming/require more complex writeup. "
   ]
  },
  {
   "cell_type": "code",
   "execution_count": 17,
   "id": "e2ad46ff",
   "metadata": {},
   "outputs": [
    {
     "name": "stdout",
     "output_type": "stream",
     "text": [
      "dominant_worldview\n",
      "integrative      123\n",
      "modern           103\n",
      "postmodern        74\n",
      "traditional       72\n",
      "multiple_ties     34\n",
      "Name: count, dtype: int64\n"
     ]
    }
   ],
   "source": [
    "# Had experiences to make them open/inclusive\n",
    "print(df[\"dominant_worldview\"].value_counts(dropna=False))"
   ]
  },
  {
   "cell_type": "code",
   "execution_count": null,
   "id": "cb372187",
   "metadata": {},
   "outputs": [],
   "source": []
  }
 ],
 "metadata": {
  "kernelspec": {
   "display_name": "Python (worldview-venv)",
   "language": "python",
   "name": "worldview-venv"
  },
  "language_info": {
   "codemirror_mode": {
    "name": "ipython",
    "version": 3
   },
   "file_extension": ".py",
   "mimetype": "text/x-python",
   "name": "python",
   "nbconvert_exporter": "python",
   "pygments_lexer": "ipython3",
   "version": "3.11.9"
  }
 },
 "nbformat": 4,
 "nbformat_minor": 5
}
