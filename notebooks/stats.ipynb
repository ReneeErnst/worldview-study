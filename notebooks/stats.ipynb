{
 "cells": [
  {
   "cell_type": "code",
   "execution_count": 1,
   "id": "692bf71c",
   "metadata": {},
   "outputs": [],
   "source": [
    "import pandas as pd\n",
    "import pingouin as pg\n",
    "\n",
    "import worldview\n",
    "from worldview import analysis\n",
    "\n",
    "# Set display format to 4 decimal places\n",
    "pd.options.display.float_format = \"{:.4f}\".format\n",
    "\n",
    "data_loc = worldview.get_data_dir()\n",
    "df = pd.read_csv(data_loc / \"processed_data.csv\")"
   ]
  },
  {
   "cell_type": "markdown",
   "id": "4406359c",
   "metadata": {},
   "source": [
    "# One-Way ANOVA - differences in QES by dominant worldview"
   ]
  },
  {
   "cell_type": "code",
   "execution_count": 3,
   "id": "8a85eddb",
   "metadata": {},
   "outputs": [],
   "source": [
    "# Filter out the \"multiple_ties\" group for this analysis\n",
    "df_worldview = df[df[\"dominant_worldview\"] != \"multiple_ties\"]"
   ]
  },
  {
   "cell_type": "code",
   "execution_count": 4,
   "id": "7703defa",
   "metadata": {},
   "outputs": [
    {
     "name": "stdout",
     "output_type": "stream",
     "text": [
      "                            df     sum_sq  mean_sq      F  PR(>F)\n",
      "C(dominant_worldview)   3.0000  1217.3609 405.7870 8.4006  0.0000\n",
      "Residual              386.0000 18645.4827  48.3044    NaN     NaN\n",
      "     Multiple Comparison of Means - Tukey HSD, FWER=0.05      \n",
      "==============================================================\n",
      "   group1      group2   meandiff p-adj   lower   upper  reject\n",
      "--------------------------------------------------------------\n",
      "integrative      modern   7.4615    0.0  3.5808 11.3422   True\n",
      "integrative  postmodern    6.409 0.0014  1.9343 10.8837   True\n",
      "integrative traditional   5.4682 0.0004  1.9458  8.9906   True\n",
      "     modern  postmodern  -1.0525 0.8741 -4.6446  2.5397  False\n",
      "     modern traditional  -1.9933 0.1153 -4.2929  0.3064  False\n",
      " postmodern traditional  -0.9408 0.8731 -4.1426   2.261  False\n",
      "--------------------------------------------------------------\n"
     ]
    }
   ],
   "source": [
    "anova_table, tukey_results = analysis.one_way_anova(\n",
    "    df_worldview, group_col=\"dominant_worldview\", dv_col=\"qes_total\"\n",
    ")\n",
    "print(anova_table)\n",
    "print(tukey_results)"
   ]
  },
  {
   "cell_type": "markdown",
   "id": "9bd525e7",
   "metadata": {},
   "source": [
    "There is a statistically significant difference in QES by Dominant Worldview, F(3, 386) = 8.40, p < .001, η2= .06. The tukey tests are used to see where the differences occur (post-hoc tests). The Integrative group scored significantly higher than the Modern group (p < .001), the Postmodern group (p = .001), and the Traditional group (p < .001). There were no statistically significant differences found between the Modern, Postmodern, and Traditional groups (all p values > .11).\n",
    "\n",
    "Here are the means and SDs that can be used for the writeup: "
   ]
  },
  {
   "cell_type": "code",
   "execution_count": 5,
   "id": "b92b4fb7",
   "metadata": {},
   "outputs": [
    {
     "data": {
      "text/html": [
       "<div>\n",
       "<style scoped>\n",
       "    .dataframe tbody tr th:only-of-type {\n",
       "        vertical-align: middle;\n",
       "    }\n",
       "\n",
       "    .dataframe tbody tr th {\n",
       "        vertical-align: top;\n",
       "    }\n",
       "\n",
       "    .dataframe thead th {\n",
       "        text-align: right;\n",
       "    }\n",
       "</style>\n",
       "<table border=\"1\" class=\"dataframe\">\n",
       "  <thead>\n",
       "    <tr style=\"text-align: right;\">\n",
       "      <th></th>\n",
       "      <th>mean</th>\n",
       "      <th>std</th>\n",
       "    </tr>\n",
       "    <tr>\n",
       "      <th>dominant_worldview</th>\n",
       "      <th></th>\n",
       "      <th></th>\n",
       "    </tr>\n",
       "  </thead>\n",
       "  <tbody>\n",
       "    <tr>\n",
       "      <th>integrative</th>\n",
       "      <td>48.8966</td>\n",
       "      <td>8.7560</td>\n",
       "    </tr>\n",
       "    <tr>\n",
       "      <th>modern</th>\n",
       "      <td>56.3580</td>\n",
       "      <td>6.6677</td>\n",
       "    </tr>\n",
       "    <tr>\n",
       "      <th>postmodern</th>\n",
       "      <td>55.3056</td>\n",
       "      <td>6.8736</td>\n",
       "    </tr>\n",
       "    <tr>\n",
       "      <th>traditional</th>\n",
       "      <td>54.3648</td>\n",
       "      <td>6.8158</td>\n",
       "    </tr>\n",
       "  </tbody>\n",
       "</table>\n",
       "</div>"
      ],
      "text/plain": [
       "                      mean    std\n",
       "dominant_worldview               \n",
       "integrative        48.8966 8.7560\n",
       "modern             56.3580 6.6677\n",
       "postmodern         55.3056 6.8736\n",
       "traditional        54.3648 6.8158"
      ]
     },
     "execution_count": 5,
     "metadata": {},
     "output_type": "execute_result"
    }
   ],
   "source": [
    "df_worldview.groupby(\"dominant_worldview\")[\"qes_total\"].agg([\"mean\", \"std\"])"
   ]
  },
  {
   "cell_type": "markdown",
   "id": "6993aeea",
   "metadata": {},
   "source": [
    "# One-Way ANOVA - differences in ISI Diffuse Avoidant by Dominant Worldview"
   ]
  },
  {
   "cell_type": "code",
   "execution_count": 6,
   "id": "780d5977",
   "metadata": {},
   "outputs": [
    {
     "name": "stdout",
     "output_type": "stream",
     "text": [
      "                            df     sum_sq  mean_sq      F  PR(>F)\n",
      "C(dominant_worldview)   3.0000   139.4605  46.4868 1.1110  0.3445\n",
      "Residual              386.0000 16151.0139  41.8420    NaN     NaN\n"
     ]
    }
   ],
   "source": [
    "anova_table, tukey_results = analysis.one_way_anova(\n",
    "    df_worldview, group_col=\"dominant_worldview\", dv_col=\"isi_diffuse_avoidant_total\"\n",
    ")\n",
    "print(anova_table)"
   ]
  },
  {
   "cell_type": "markdown",
   "id": "e2086253",
   "metadata": {},
   "source": [
    "No significant difference in ISI diffuse avoidant by dominant worldview (p = 0.344)"
   ]
  },
  {
   "cell_type": "markdown",
   "id": "cc87428e",
   "metadata": {},
   "source": [
    "# One-Way ANOVA - differences in ISI Informational by Dominant Worldview"
   ]
  },
  {
   "cell_type": "code",
   "execution_count": 7,
   "id": "d44e4ffb",
   "metadata": {},
   "outputs": [
    {
     "name": "stdout",
     "output_type": "stream",
     "text": [
      "                            df     sum_sq  mean_sq      F  PR(>F)\n",
      "C(dominant_worldview)   3.0000   359.3092 119.7697 3.1302  0.0257\n",
      "Residual              386.0000 14769.3806  38.2626    NaN     NaN\n",
      "\n",
      "     Multiple Comparison of Means - Tukey HSD, FWER=0.05     \n",
      "=============================================================\n",
      "   group1      group2   meandiff p-adj   lower  upper  reject\n",
      "-------------------------------------------------------------\n",
      "integrative      modern   3.9583 0.0173  0.5044 7.4121   True\n",
      "integrative  postmodern   3.7021  0.079 -0.2804 7.6846  False\n",
      "integrative traditional   2.8146  0.096 -0.3204 5.9496  False\n",
      "     modern  postmodern  -0.2562 0.9969 -3.4532 2.9409  False\n",
      "     modern traditional  -1.1437  0.474 -3.1904  0.903  False\n",
      " postmodern traditional  -0.8875 0.8527 -3.7371 1.9621  False\n",
      "-------------------------------------------------------------\n"
     ]
    }
   ],
   "source": [
    "anova_table, tukey_results = analysis.one_way_anova(\n",
    "    df_worldview, group_col=\"dominant_worldview\", dv_col=\"isi_informational_total\"\n",
    ")\n",
    "print(anova_table)\n",
    "print(\"\")\n",
    "print(tukey_results)"
   ]
  },
  {
   "cell_type": "markdown",
   "id": "52fa662b",
   "metadata": {},
   "source": [
    "There is a significant difference in ISI Informational scores by Dominant Worldview, F(3, 386) = 3.13, p = .026, η2 = .02. The Tukey post-hoc tests showed that this is driven by a difference between integrative and modern (p = .017). No other groups have statistically significant differences.  \n",
    "\n",
    "Here are the means/SDs by groups for writeup:"
   ]
  },
  {
   "cell_type": "code",
   "execution_count": 8,
   "id": "7122767c",
   "metadata": {},
   "outputs": [
    {
     "data": {
      "text/html": [
       "<div>\n",
       "<style scoped>\n",
       "    .dataframe tbody tr th:only-of-type {\n",
       "        vertical-align: middle;\n",
       "    }\n",
       "\n",
       "    .dataframe tbody tr th {\n",
       "        vertical-align: top;\n",
       "    }\n",
       "\n",
       "    .dataframe thead th {\n",
       "        text-align: right;\n",
       "    }\n",
       "</style>\n",
       "<table border=\"1\" class=\"dataframe\">\n",
       "  <thead>\n",
       "    <tr style=\"text-align: right;\">\n",
       "      <th></th>\n",
       "      <th>mean</th>\n",
       "      <th>std</th>\n",
       "    </tr>\n",
       "    <tr>\n",
       "      <th>dominant_worldview</th>\n",
       "      <th></th>\n",
       "      <th></th>\n",
       "    </tr>\n",
       "  </thead>\n",
       "  <tbody>\n",
       "    <tr>\n",
       "      <th>integrative</th>\n",
       "      <td>32.1034</td>\n",
       "      <td>7.1581</td>\n",
       "    </tr>\n",
       "    <tr>\n",
       "      <th>modern</th>\n",
       "      <td>36.0617</td>\n",
       "      <td>5.3906</td>\n",
       "    </tr>\n",
       "    <tr>\n",
       "      <th>postmodern</th>\n",
       "      <td>35.8056</td>\n",
       "      <td>6.6022</td>\n",
       "    </tr>\n",
       "    <tr>\n",
       "      <th>traditional</th>\n",
       "      <td>34.9180</td>\n",
       "      <td>6.2474</td>\n",
       "    </tr>\n",
       "  </tbody>\n",
       "</table>\n",
       "</div>"
      ],
      "text/plain": [
       "                      mean    std\n",
       "dominant_worldview               \n",
       "integrative        32.1034 7.1581\n",
       "modern             36.0617 5.3906\n",
       "postmodern         35.8056 6.6022\n",
       "traditional        34.9180 6.2474"
      ]
     },
     "execution_count": 8,
     "metadata": {},
     "output_type": "execute_result"
    }
   ],
   "source": [
    "df_worldview.groupby(\"dominant_worldview\")[\"isi_informational_total\"].agg(\n",
    "    [\"mean\", \"std\"]\n",
    ")"
   ]
  },
  {
   "cell_type": "markdown",
   "id": "fc30703b",
   "metadata": {},
   "source": [
    "# One-Way ANOVA - differences in ISI Normative by Dominant Worldview"
   ]
  },
  {
   "cell_type": "code",
   "execution_count": 9,
   "id": "004ec2ad",
   "metadata": {},
   "outputs": [
    {
     "name": "stdout",
     "output_type": "stream",
     "text": [
      "                            df     sum_sq  mean_sq       F  PR(>F)\n",
      "C(dominant_worldview)   3.0000  2949.6563 983.2188 26.9596  0.0000\n",
      "Residual              386.0000 14077.4437  36.4701     NaN     NaN\n",
      "\n",
      "      Multiple Comparison of Means - Tukey HSD, FWER=0.05      \n",
      "===============================================================\n",
      "   group1      group2   meandiff p-adj   lower    upper  reject\n",
      "---------------------------------------------------------------\n",
      "integrative      modern  -4.4193 0.0044  -7.7913 -1.0473   True\n",
      "integrative  postmodern   1.2165  0.851  -2.6716  5.1046  False\n",
      "integrative traditional    -6.82    0.0  -9.8806 -3.7593   True\n",
      "     modern  postmodern   5.6358    0.0   2.5145  8.7571   True\n",
      "     modern traditional  -2.4006 0.0111  -4.3988 -0.4024   True\n",
      " postmodern traditional  -8.0364    0.0 -10.8185 -5.2544   True\n",
      "---------------------------------------------------------------\n"
     ]
    }
   ],
   "source": [
    "anova_table, tukey_results = analysis.one_way_anova(\n",
    "    df_worldview, group_col=\"dominant_worldview\", dv_col=\"isi_normative_total\"\n",
    ")\n",
    "print(anova_table)\n",
    "print(\"\")\n",
    "print(tukey_results)"
   ]
  },
  {
   "cell_type": "markdown",
   "id": "2c860c63",
   "metadata": {},
   "source": [
    "There is a significant difference in ISI Normative scores by Dominant Worldview, F(3, 386) = 26.96, p < .001, η2 = .17. The Tukey post-hoc tests post-hoc test revealed several significant differences between the groups. The Traditional group scored significantly higher than the Integrative group (p < .001), the Modern group (p = .011), and the Postmodern group (p < .001). The Modern group also scored significantly higher than the Integrative group (p = .004) and the Postmodern group (p < .001). No significant difference was found between the Integrative and Postmodern groups (p = .851).\n",
    "\n",
    "Here are the means/SDs by groups for writeup:"
   ]
  },
  {
   "cell_type": "code",
   "execution_count": 10,
   "id": "d5ab330d",
   "metadata": {},
   "outputs": [
    {
     "data": {
      "text/html": [
       "<div>\n",
       "<style scoped>\n",
       "    .dataframe tbody tr th:only-of-type {\n",
       "        vertical-align: middle;\n",
       "    }\n",
       "\n",
       "    .dataframe tbody tr th {\n",
       "        vertical-align: top;\n",
       "    }\n",
       "\n",
       "    .dataframe thead th {\n",
       "        text-align: right;\n",
       "    }\n",
       "</style>\n",
       "<table border=\"1\" class=\"dataframe\">\n",
       "  <thead>\n",
       "    <tr style=\"text-align: right;\">\n",
       "      <th></th>\n",
       "      <th>mean</th>\n",
       "      <th>std</th>\n",
       "    </tr>\n",
       "    <tr>\n",
       "      <th>dominant_worldview</th>\n",
       "      <th></th>\n",
       "      <th></th>\n",
       "    </tr>\n",
       "  </thead>\n",
       "  <tbody>\n",
       "    <tr>\n",
       "      <th>integrative</th>\n",
       "      <td>23.1724</td>\n",
       "      <td>6.5904</td>\n",
       "    </tr>\n",
       "    <tr>\n",
       "      <th>modern</th>\n",
       "      <td>18.7531</td>\n",
       "      <td>5.7348</td>\n",
       "    </tr>\n",
       "    <tr>\n",
       "      <th>postmodern</th>\n",
       "      <td>24.3889</td>\n",
       "      <td>7.2043</td>\n",
       "    </tr>\n",
       "    <tr>\n",
       "      <th>traditional</th>\n",
       "      <td>16.3525</td>\n",
       "      <td>5.8842</td>\n",
       "    </tr>\n",
       "  </tbody>\n",
       "</table>\n",
       "</div>"
      ],
      "text/plain": [
       "                      mean    std\n",
       "dominant_worldview               \n",
       "integrative        23.1724 6.5904\n",
       "modern             18.7531 5.7348\n",
       "postmodern         24.3889 7.2043\n",
       "traditional        16.3525 5.8842"
      ]
     },
     "execution_count": 10,
     "metadata": {},
     "output_type": "execute_result"
    }
   ],
   "source": [
    "df_worldview.groupby(\"dominant_worldview\")[\"isi_normative_total\"].agg([\"mean\", \"std\"])"
   ]
  }
 ],
 "metadata": {
  "kernelspec": {
   "display_name": "Python (worldview-venv)",
   "language": "python",
   "name": "worldview-venv"
  },
  "language_info": {
   "codemirror_mode": {
    "name": "ipython",
    "version": 3
   },
   "file_extension": ".py",
   "mimetype": "text/x-python",
   "name": "python",
   "nbconvert_exporter": "python",
   "pygments_lexer": "ipython3",
   "version": "3.11.9"
  }
 },
 "nbformat": 4,
 "nbformat_minor": 5
}
